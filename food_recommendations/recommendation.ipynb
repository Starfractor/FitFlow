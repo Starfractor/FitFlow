{
 "cells": [
  {
   "cell_type": "code",
   "execution_count": null,
   "metadata": {},
   "outputs": [],
   "source": [
    "import pandas as pd\n",
    "\n",
    "# Load the data from the CSV file\n",
    "df = pd.read_csv('./food_data.csv')\n",
    "\n",
    "# User's data\n",
    "calories_already_ate = 1500  # replace with actual value\n",
    "calories_needed = 2000  # replace with actual value\n",
    "available_time = 30  # replace with actual value in minutes\n",
    "\n",
    "# Calculate remaining calories needed\n",
    "remaining_calories = calories_needed - calories_already_ate\n",
    "\n",
    "# Filter the data based on the remaining calories and available time\n",
    "df_filtered = df[(df['Calories'] <= remaining_calories) & (df['Preparation Time (minutes)'] <= available_time)]\n",
    "\n",
    "# If there are no foods that meet the criteria, print a message\n",
    "if df_filtered.empty:\n",
    "    print(\"No foods found that meet your criteria.\")\n",
    "else:\n",
    "    # Sort the filtered data by Calories and Preparation Time\n",
    "    df_sorted = df_filtered.sort_values(by=['Calories', 'Preparation Time (minutes)'])\n",
    "\n",
    "    # Recommend the top 5 foods with the least amount of calories and preparation time\n",
    "    recommended_foods = df_sorted.iloc[:5]\n",
    "\n",
    "    for i, food in recommended_foods.iterrows():\n",
    "        print(f\"Recommended food {i+1}: {food['Food Name']}\")\n",
    "        print(f\"Calories: {food['Calories']}\")\n",
    "        print(f\"Preparation Time: {food['Preparation Time (minutes)']} minutes\")\n",
    "        print()\n"
   ]
  }
 ],
 "metadata": {
  "language_info": {
   "name": "python"
  }
 },
 "nbformat": 4,
 "nbformat_minor": 2
}
