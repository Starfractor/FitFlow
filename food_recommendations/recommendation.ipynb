{
 "cells": [
  {
   "cell_type": "code",
   "execution_count": 35,
   "metadata": {},
   "outputs": [
    {
     "name": "stdout",
     "output_type": "stream",
     "text": [
      "['christmas tree pizza', 'summer squash salad', 'sweet chilli almonds', 'tricolour salad', 'japanese curry arancini with barley salsa', 'chocolate nero cookies', 'lamb and chargrilled bell pepper soup', 'cream of almond soup', 'broccoli and almond soup', 'lemon honey glazed sous vide corn on the cob']\n"
     ]
    }
   ],
   "source": [
    "import pandas as pd\n",
    "from sklearn.feature_extraction.text import TfidfVectorizer\n",
    "from sklearn.metrics.pairwise import linear_kernel\n",
    "\n",
    "# Step 1: Read and preprocess the data\n",
    "data = pd.read_csv('food_data.csv')\n",
    "\n",
    "# Handling missing values\n",
    "data.fillna('', inplace=True)\n",
    "\n",
    "# Step 2: Feature Extraction\n",
    "# Combine description and food type to create input for TF-IDF\n",
    "data['Features'] = data['Name'] + ' ' + data['Food_Type'] + ' ' + data['Describe']\n",
    "\n",
    "# Convert text data (name + food type + description) into numerical features using TF-IDF\n",
    "tfidf_vectorizer = TfidfVectorizer(stop_words='english')\n",
    "tfidf_matrix = tfidf_vectorizer.fit_transform(data['Features'])\n",
    "\n",
    "# Step 3: Similarity Calculation\n",
    "# Compute cosine similarity matrix\n",
    "cosine_sim = linear_kernel(tfidf_matrix, tfidf_matrix)\n",
    "\n",
    "# Step 4: Recommendation Generation with Calorie Constraint\n",
    "def get_recommendations(query, max_calories, cosine_sim=cosine_sim):\n",
    "    # Calculate the similarity scores for each food item based on name, food type, and description\n",
    "    scores = {}\n",
    "    for index, row in data.iterrows():\n",
    "        score = 0\n",
    "        if query.lower() in row['Name'].lower():\n",
    "            score += 1.5\n",
    "        if query.lower() in row['Food_Type'].lower():\n",
    "            score += 1\n",
    "        if query.lower() in row['Describe'].lower():\n",
    "            score += 1\n",
    "        scores[index] = score\n",
    "    \n",
    "    # Sort the food items based on the calculated scores\n",
    "    sorted_scores = sorted(scores.items(), key=lambda x: x[1], reverse=True)\n",
    "    \n",
    "    # Get the top 10 food items within the calorie limit\n",
    "    recommended_foods = []\n",
    "    for index, score in sorted_scores:\n",
    "        if data['Calories'].iloc[index] <= max_calories:\n",
    "            recommended_foods.append(data['Name'].iloc[index])\n",
    "            if len(recommended_foods) == 10:\n",
    "                break\n",
    "    \n",
    "    return recommended_foods\n",
    "\n",
    "# Example usage\n",
    "query = \"vegan\"\n",
    "max_calories = 300\n",
    "recommendations = get_recommendations(query, max_calories)\n",
    "print(recommendations)\n",
    "\n",
    "\n"
   ]
  }
 ],
 "metadata": {
  "kernelspec": {
   "display_name": "CS-116",
   "language": "python",
   "name": "python3"
  },
  "language_info": {
   "codemirror_mode": {
    "name": "ipython",
    "version": 3
   },
   "file_extension": ".py",
   "mimetype": "text/x-python",
   "name": "python",
   "nbconvert_exporter": "python",
   "pygments_lexer": "ipython3",
   "version": "3.12.1"
  }
 },
 "nbformat": 4,
 "nbformat_minor": 2
}
