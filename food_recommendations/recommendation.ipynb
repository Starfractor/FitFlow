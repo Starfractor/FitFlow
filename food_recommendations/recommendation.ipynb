{
 "cells": [
  {
   "cell_type": "code",
   "execution_count": 4,
   "metadata": {},
   "outputs": [
    {
     "name": "stdout",
     "output_type": "stream",
     "text": [
      "Recommended food 73: Beef Tenders\n",
      "Calories: 500\n",
      "Preparation Time: 25 minutes\n",
      "\n",
      "Recommended food 59: Chicken Teriyaki\n",
      "Calories: 500\n",
      "Preparation Time: 30 minutes\n",
      "\n",
      "Recommended food 1: Spaghetti Carbonara\n",
      "Calories: 480\n",
      "Preparation Time: 30 minutes\n",
      "\n",
      "Recommended food 71: Cobb Salad\n",
      "Calories: 450\n",
      "Preparation Time: 20 minutes\n",
      "\n",
      "Recommended food 11: Shrimp Scampi\n",
      "Calories: 450\n",
      "Preparation Time: 25 minutes\n",
      "\n"
     ]
    }
   ],
   "source": [
    "import pandas as pd\n",
    "\n",
    "# Load the data from the CSV file\n",
    "df = pd.read_csv('./food_data.csv')\n",
    "\n",
    "# User's data\n",
    "sex = 'M'\n",
    "age = 25\n",
    "calories_already_ate = 1500  # replace with actual value\n",
    "calories_needed = 2000  # replace with actual value\n",
    "available_time = 30 \n",
    "\n",
    "\n",
    "# Calculate remaining calories needed\n",
    "remaining_calories = calories_needed - calories_already_ate\n",
    "\n",
    "# Filter the data based on the remaining calories and available time\n",
    "df_filtered = df[(df['Calories'] <= remaining_calories) & (df['Preparation Time (minutes)'] <= available_time)]\n",
    "\n",
    "# If there are no foods that meet the criteria, print a message\n",
    "if df_filtered.empty:\n",
    "    print(\"No foods found that meet your criteria.\")\n",
    "else:\n",
    "    # Sort the filtered data by Calories in descending order and Preparation Time in ascending order\n",
    "    df_sorted = df_filtered.sort_values(by=['Calories', 'Preparation Time (minutes)'], ascending=[False, True])\n",
    "\n",
    "\n",
    "    # Recommend the top 5 foods with the least amount of calories and preparation time\n",
    "    recommended_foods = df_sorted.iloc[:5]\n",
    "\n",
    "    for i, food in recommended_foods.iterrows():\n",
    "        print(f\"Recommended food {i+1}: {food['Food Name']}\")\n",
    "        print(f\"Calories: {food['Calories']}\")\n",
    "        print(f\"Preparation Time: {food['Preparation Time (minutes)']} minutes\")\n",
    "        print()\n"
   ]
  }
 ],
 "metadata": {
  "kernelspec": {
   "display_name": "CS-116",
   "language": "python",
   "name": "python3"
  },
  "language_info": {
   "codemirror_mode": {
    "name": "ipython",
    "version": 3
   },
   "file_extension": ".py",
   "mimetype": "text/x-python",
   "name": "python",
   "nbconvert_exporter": "python",
   "pygments_lexer": "ipython3",
   "version": "3.12.1"
  }
 },
 "nbformat": 4,
 "nbformat_minor": 2
}
